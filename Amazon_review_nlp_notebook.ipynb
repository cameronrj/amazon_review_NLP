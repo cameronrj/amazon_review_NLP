{
 "cells": [
  {
   "cell_type": "markdown",
   "id": "b964a08b",
   "metadata": {},
   "source": [
    "### Load Data"
   ]
  },
  {
   "cell_type": "code",
   "execution_count": 47,
   "id": "db523878",
   "metadata": {},
   "outputs": [],
   "source": [
    "#Create a data class for all the data being loaded\n",
    "\n",
    "class Sentiment:\n",
    "    negative = \"negative\"\n",
    "    neutral = \"neutral\"\n",
    "    positive = \"positive\"\n",
    "\n",
    "class Review:\n",
    "    def __init__(self, text, score):\n",
    "        self.text = text\n",
    "        self.score = score\n",
    "        self.sentiment = self.get_sentiment()\n",
    "#define sentiment score in review class (used to allow NLP ML later)\n",
    "    def get_sentiment(self):\n",
    "        if self.score <= 2:\n",
    "            return Sentiment.negative\n",
    "        elif self.score == 3:\n",
    "            return Sentiment.neutral\n",
    "        else:\n",
    "            return Sentiment.positive\n",
    "        \n",
    "        \n",
    "#Create class to even out Positive and negative training data as not to indroduce bias into the ML model\n",
    "\n",
    "class ReviewContainer:\n",
    "    def __init__(self, reviews):\n",
    "        self.reviews = reviews\n",
    "      \n",
    "    #create method to extract text from each review\n",
    "    def get_text(self):\n",
    "        return [x.text for x in self.reviews]\n",
    "    \n",
    "    def get_sentiment(self):\n",
    "        return [x.sentiment for x in self.reviews]\n",
    "        \n",
    "    def evenly_dist(self):\n",
    "        negative = list(filter(lambda x: x.sentiment == Sentiment.negative, self.reviews))\n",
    "        positive = list(filter(lambda x: x.sentiment == Sentiment.positive, self.reviews))\n",
    "        positive_shrunk = positive[:len(negative)]\n",
    "        self.reviews = negative + positive_shrunk\n",
    "        random.shuffle(self.reviews)\n",
    "        print(len(negative))\n",
    "        print(len(positive))"
   ]
  },
  {
   "cell_type": "markdown",
   "id": "86350b86",
   "metadata": {},
   "source": [
    "### Define Classes"
   ]
  },
  {
   "cell_type": "code",
   "execution_count": 3,
   "id": "af8a7bf1",
   "metadata": {},
   "outputs": [
    {
     "name": "stdout",
     "output_type": "stream",
     "text": [
      "{\"reviewerID\": \"A1F2H80A1ZNN1N\", \"asin\": \"B00GDM3NQC\", \"reviewerName\": \"Connie Correll\", \"helpful\": [0, 0], \"reviewText\": \"I bought both boxed sets, books 1-5.  Really a great series!  Start book 1 three weeks ago and just finished book 5.  Sloane Monroe is a great character and being able to follow her through both private life and her PI life gets a reader very involved!  Although clues may be right in front of the reader, there are twists and turns that keep one guessing until the last page!  These are books you won't be disappointed with.\", \"overall\": 5.0, \"summary\": \"Can't stop reading!\", \"unixReviewTime\": 1390435200, \"reviewTime\": \"01 23, 2014\"}\n",
      "\n"
     ]
    }
   ],
   "source": [
    "import json\n",
    "\n",
    "file_name = 'C:/Users/camer/Documents/ML_py/amazon_review_nlp/Books_small_10000.json'\n",
    "\n",
    "with open(file_name) as f:\n",
    "    for line in f:\n",
    "        print(line)\n",
    "        break"
   ]
  },
  {
   "cell_type": "code",
   "execution_count": 4,
   "id": "22d69a61",
   "metadata": {
    "scrolled": false
   },
   "outputs": [
    {
     "name": "stdout",
     "output_type": "stream",
     "text": [
      "I bought both boxed sets, books 1-5.  Really a great series!  Start book 1 three weeks ago and just finished book 5.  Sloane Monroe is a great character and being able to follow her through both private life and her PI life gets a reader very involved!  Although clues may be right in front of the reader, there are twists and turns that keep one guessing until the last page!  These are books you won't be disappointed with.\n",
      "5.0\n"
     ]
    }
   ],
   "source": [
    "# Use above print to find dictionary keys to print corresponding values. Current file is not of type dict so need to convert\n",
    "\n",
    "with open(file_name) as f:\n",
    "    for line in f:\n",
    "        review = json.loads(line)\n",
    "        print(review['reviewText'])\n",
    "        print(review['overall'])\n",
    "        break"
   ]
  },
  {
   "cell_type": "code",
   "execution_count": 5,
   "id": "88e8af16",
   "metadata": {},
   "outputs": [
    {
     "name": "stdout",
     "output_type": "stream",
     "text": [
      "positive\n"
     ]
    }
   ],
   "source": [
    "# Above code works to find individual reviews and rating, use this to create a list of every review and rating. Use review class\n",
    "#to append as a review ibject\n",
    "\n",
    "reviews = []\n",
    "with open(file_name) as f:\n",
    "    for line in f:\n",
    "        review = json.loads(line)\n",
    "        reviews.append(Review(review['reviewText'],review['overall']))\n",
    "\n",
    "# Class allows us to use integer to select review tuple and 'text' or 'score' to specify the body of the review of its rating\n",
    "print(reviews[5].sentiment)"
   ]
  },
  {
   "cell_type": "markdown",
   "id": "04ca08bd",
   "metadata": {},
   "source": [
    "### Prep Data"
   ]
  },
  {
   "cell_type": "code",
   "execution_count": 6,
   "id": "92b1037f",
   "metadata": {},
   "outputs": [
    {
     "data": {
      "text/plain": [
       "10000"
      ]
     },
     "execution_count": 6,
     "metadata": {},
     "output_type": "execute_result"
    }
   ],
   "source": [
    "len(reviews)"
   ]
  },
  {
   "cell_type": "code",
   "execution_count": 60,
   "id": "c877f956",
   "metadata": {},
   "outputs": [
    {
     "name": "stdout",
     "output_type": "stream",
     "text": [
      "513\n",
      "6704\n",
      "131\n",
      "1674\n"
     ]
    }
   ],
   "source": [
    "from sklearn.model_selection import train_test_split\n",
    "import random\n",
    "\n",
    "\n",
    "# split review data to use to train and test ML algorithm\n",
    "train, test = train_test_split(reviews, test_size = 0.2, random_state = 42)\n",
    "\n",
    "train_container = ReviewContainer(train)\n",
    "train_container.evenly_dist()\n",
    "\n",
    "test_container = ReviewContainer(test)\n",
    "test_container.evenly_dist()"
   ]
  },
  {
   "cell_type": "code",
   "execution_count": 61,
   "id": "3106ee7c",
   "metadata": {},
   "outputs": [
    {
     "name": "stdout",
     "output_type": "stream",
     "text": [
      "513\n"
     ]
    }
   ],
   "source": [
    "# split training data into text and sentiment (X and y in ML algorithm)\n",
    "X_train = train_container.get_text()\n",
    "y_train = train_container.get_sentiment()\n",
    "\n",
    "# likewise split test data into text and sentiment (X and y)\n",
    "X_test = test_container.get_text()\n",
    "y_test = test_container.get_sentiment()\n",
    "\n",
    "print(y_train.count(Sentiment.positive))\n"
   ]
  },
  {
   "cell_type": "markdown",
   "id": "a1e261d2",
   "metadata": {},
   "source": [
    "#### Bag of words vectorisation"
   ]
  },
  {
   "cell_type": "code",
   "execution_count": 69,
   "id": "fc197e28",
   "metadata": {},
   "outputs": [
    {
     "data": {
      "text/plain": [
       "<1x9625 sparse matrix of type '<class 'numpy.float64'>'\n",
       "\twith 168 stored elements in Compressed Sparse Row format>"
      ]
     },
     "execution_count": 69,
     "metadata": {},
     "output_type": "execute_result"
    }
   ],
   "source": [
    "from sklearn.feature_extraction.text import CountVectorizer, TfidfVectorizer\n",
    "\n",
    "#Use bag of words to create a numerized version of review text e.g. each word is assigned a row and counted in a vector when it appears in a review\n",
    "\n",
    "vectorizer = TfidfVectorizer()\n",
    "X_train_vectors = vectorizer.fit_transform(X_train)\n",
    "\n",
    "X_test_vectors = vectorizer.transform(X_test)\n",
    "\n",
    "X_train_vectors[0]\n",
    "X_test_vectors[0]"
   ]
  },
  {
   "cell_type": "markdown",
   "id": "eb691aff",
   "metadata": {},
   "source": [
    "### Classification"
   ]
  },
  {
   "cell_type": "markdown",
   "id": "bcea5249",
   "metadata": {},
   "source": [
    "#### Linear SVM"
   ]
  },
  {
   "cell_type": "code",
   "execution_count": 70,
   "id": "3aa5df17",
   "metadata": {},
   "outputs": [
    {
     "data": {
      "text/plain": [
       "array(['negative'], dtype='<U8')"
      ]
     },
     "execution_count": 70,
     "metadata": {},
     "output_type": "execute_result"
    }
   ],
   "source": [
    "from sklearn import svm\n",
    "\n",
    "clf_svm = svm.SVC(kernel = 'linear')\n",
    "\n",
    "clf_svm.fit(X_train_vectors, y_train)\n",
    "\n",
    "clf_svm.predict(X_test_vectors[0])"
   ]
  },
  {
   "cell_type": "code",
   "execution_count": 20,
   "id": "65697009",
   "metadata": {},
   "outputs": [
    {
     "data": {
      "text/plain": [
       "\"was sent an Arc of this book for an honest review and here it is = This is the kind of book that you want to read while sitting in front of the fire with a cup of hot apple cider and a blanket over your legs.I have read many of Jaci Burton's books and have never been disappointed. This first book in her new Hope series does not disappoint either.This is the story of Emma, a new vet who has come back home to open her own practice and Luke McCormack, a police officer in the same town.Both have been previously burned by love so both have issues but, that doesn't stop them from acting on that attraction.This book pulls you in from the first page, wraps you up and doesn't let you go until the end.I loved it!\""
      ]
     },
     "execution_count": 20,
     "metadata": {},
     "output_type": "execute_result"
    }
   ],
   "source": [
    "X_test[0]"
   ]
  },
  {
   "cell_type": "markdown",
   "id": "22b34ef2",
   "metadata": {},
   "source": [
    "#### Decision tree"
   ]
  },
  {
   "cell_type": "code",
   "execution_count": 71,
   "id": "eb5a775d",
   "metadata": {},
   "outputs": [
    {
     "data": {
      "text/plain": [
       "array(['positive'], dtype='<U8')"
      ]
     },
     "execution_count": 71,
     "metadata": {},
     "output_type": "execute_result"
    }
   ],
   "source": [
    "from sklearn.tree import DecisionTreeClassifier\n",
    "\n",
    "clf_decision = DecisionTreeClassifier()\n",
    "clf_decision.fit(X_train_vectors, y_train)\n",
    "\n",
    "clf_decision.predict(X_test_vectors[0])"
   ]
  },
  {
   "cell_type": "markdown",
   "id": "1966902a",
   "metadata": {},
   "source": [
    "#### Naive Bayes"
   ]
  },
  {
   "cell_type": "code",
   "execution_count": 72,
   "id": "d2305fe4",
   "metadata": {},
   "outputs": [
    {
     "data": {
      "text/plain": [
       "array(['negative'], dtype='<U8')"
      ]
     },
     "execution_count": 72,
     "metadata": {},
     "output_type": "execute_result"
    }
   ],
   "source": [
    "from sklearn.naive_bayes import GaussianNB\n",
    "\n",
    "clf_gnb = GaussianNB()\n",
    "clf_gnb.fit(X_train_vectors.toarray(), y_train)\n",
    "\n",
    "clf_gnb.predict(X_test_vectors[0].toarray())"
   ]
  },
  {
   "cell_type": "markdown",
   "id": "d24e950b",
   "metadata": {},
   "source": [
    "#### Logistic regression"
   ]
  },
  {
   "cell_type": "code",
   "execution_count": 73,
   "id": "e76dbea2",
   "metadata": {},
   "outputs": [
    {
     "data": {
      "text/plain": [
       "array(['negative'], dtype='<U8')"
      ]
     },
     "execution_count": 73,
     "metadata": {},
     "output_type": "execute_result"
    }
   ],
   "source": [
    "from sklearn.linear_model import LogisticRegression\n",
    "\n",
    "clf_log = LogisticRegression()\n",
    "clf_log.fit(X_train_vectors, y_train)\n",
    "\n",
    "clf_log.predict(X_test_vectors[0])"
   ]
  },
  {
   "cell_type": "markdown",
   "id": "42667309",
   "metadata": {},
   "source": [
    "### Evaluation"
   ]
  },
  {
   "cell_type": "code",
   "execution_count": 74,
   "id": "e847a4ac",
   "metadata": {},
   "outputs": [
    {
     "name": "stdout",
     "output_type": "stream",
     "text": [
      "0.9892787524366472\n",
      "1.0\n",
      "0.9844054580896686\n",
      "0.9668615984405458\n"
     ]
    }
   ],
   "source": [
    "#Pass test data through ML models to see how well they score on mean accuracy\n",
    "\n",
    "print(clf_svm.score(X_train_vectors, y_train))\n",
    "print(clf_decision.score(X_train_vectors, y_train))\n",
    "print(clf_gnb.score(X_train_vectors.toarray(), y_train))\n",
    "print(clf_log.score(X_train_vectors, y_train))"
   ]
  },
  {
   "cell_type": "code",
   "execution_count": 75,
   "id": "56c57ec7",
   "metadata": {},
   "outputs": [
    {
     "name": "stdout",
     "output_type": "stream",
     "text": [
      "[0.82442748 0.82442748]\n",
      "[0.69888476 0.68235294]\n",
      "[0.83333333 0.83076923]\n"
     ]
    }
   ],
   "source": [
    "# Pass test data through ml models and evaluate their f1_scores\n",
    "\n",
    "from sklearn.metrics import f1_score\n",
    "\n",
    "print(f1_score(y_test, clf_svm.predict(X_test_vectors), average = None, labels = [Sentiment.positive, Sentiment.negative]))\n",
    "print(f1_score(y_test, clf_decision.predict(X_test_vectors), average = None, labels = [Sentiment.positive, Sentiment.negative]))\n",
    "print(f1_score(y_test, clf_log.predict(X_test_vectors), average = None, labels = [Sentiment.positive, Sentiment.negative]))"
   ]
  },
  {
   "cell_type": "markdown",
   "id": "100235b9",
   "metadata": {},
   "source": [
    "#### Use a grid model to tune the ML algorithm"
   ]
  },
  {
   "cell_type": "code",
   "execution_count": null,
   "id": "3f375eda",
   "metadata": {},
   "outputs": [],
   "source": []
  }
 ],
 "metadata": {
  "kernelspec": {
   "display_name": "Python 3 (ipykernel)",
   "language": "python",
   "name": "python3"
  },
  "language_info": {
   "codemirror_mode": {
    "name": "ipython",
    "version": 3
   },
   "file_extension": ".py",
   "mimetype": "text/x-python",
   "name": "python",
   "nbconvert_exporter": "python",
   "pygments_lexer": "ipython3",
   "version": "3.9.12"
  }
 },
 "nbformat": 4,
 "nbformat_minor": 5
}
